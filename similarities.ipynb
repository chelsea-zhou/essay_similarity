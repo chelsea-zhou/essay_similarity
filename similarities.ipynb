{
  "cells": [
    {
      "cell_type": "code",
      "execution_count": null,
      "metadata": {
        "id": "KcXlIJwqFkqN"
      },
      "outputs": [],
      "source": [
        "import openai\n",
        "import numpy as np\n",
        "from sklearn.metrics.pairwise import cosine_similarity\n",
        "\n",
        "OPEN_AI_KEY='OPEN_AI_KEY'\n",
        "client = openai.OpenAI(api_key=OPEN_AI_KEY)\n"
      ]
    },
    {
      "cell_type": "code",
      "execution_count": null,
      "metadata": {
        "id": "M-MIQsvAbnHS"
      },
      "outputs": [],
      "source": [
        "!pip install requests beautifulsoup4"
      ]
    },
    {
      "cell_type": "markdown",
      "metadata": {
        "id": "flR9qysoMQoe"
      },
      "source": [
        "# Step 1: Extract article links from write of passage posts"
      ]
    },
    {
      "cell_type": "code",
      "execution_count": null,
      "metadata": {
        "id": "5AaYslPvo2y_"
      },
      "outputs": [],
      "source": [
        "import requests\n",
        "import json\n",
        "import time\n",
        "import re\n",
        "\n",
        "def find_href_values(obj, search_key):\n",
        "    href_values = []\n",
        "    if isinstance(obj, dict):\n",
        "        for key, value in obj.items():\n",
        "            if key == search_key:\n",
        "                href_values.append(value)\n",
        "            else:\n",
        "                href_values.extend(find_href_values(value, search_key))\n",
        "    elif isinstance(obj, list):\n",
        "        for item in obj:\n",
        "            href_values.extend(find_href_values(item, search_key))\n",
        "    return href_values\n",
        "\n",
        "def fetch_published_list(page_index, max_per_page, headers):\n",
        "    published_lists_endpoint = \"https://home.writeofpassage.school/internal_api/spaces/1303617/posts?page=\" + str(page_index) + \"&include_top_pinned_post=false&used_on=list&per_page=\" + str(max_per_page)\n",
        "    response = requests.get(published_lists_endpoint, headers=headers)\n",
        "    print(\"got resopnse\", response.status_code, \"for page\", page_index)\n",
        "    res = json.loads(response.text)\n",
        "    return res\n",
        "\n",
        "def get_all_urls():\n",
        "  max_per_page = 30\n",
        "  page_index = 1\n",
        "  headers = {\n",
        "      \"User-Agent\": \"Mozilla/5.0 (Windows NT 10.0; Win64; x64) AppleWebKit/537.36 (KHTML, like Gecko) Chrome/91.0.4472.124 Safari/537.36\",\n",
        "      \"Cookie\": 'INSERT_COOKIE'}\n",
        "  has_next_page = True\n",
        "  substack_links = set()\n",
        "  while(has_next_page and page_index < 5):\n",
        "    res = fetch_published_list(page_index, max_per_page, headers)\n",
        "\n",
        "    links = find_href_values(res, \"href\")\n",
        "    substack_links.update(links)\n",
        "\n",
        "    page_index += 1\n",
        "    if res[\"has_next_page\"] == \"false\":\n",
        "      has_next_page = False\n",
        "    time.sleep(3)\n",
        "    print(\"Waited for 3 seconds!\")\n",
        "  return substack_links"
      ]
    },
    {
      "cell_type": "code",
      "execution_count": null,
      "metadata": {
        "colab": {
          "base_uri": "https://localhost:8080/"
        },
        "id": "F-Kb3G2Hpvqw",
        "outputId": "e5e972e6-00cd-4409-80fc-a58deafa5012"
      },
      "outputs": [
        {
          "name": "stdout",
          "output_type": "stream",
          "text": [
            "got resopnse 200 for page 1\n",
            "Waited for 3 seconds!\n",
            "got resopnse 200 for page 2\n",
            "Waited for 3 seconds!\n",
            "got resopnse 200 for page 3\n",
            "Waited for 3 seconds!\n",
            "got resopnse 200 for page 4\n",
            "Waited for 3 seconds!\n"
          ]
        },
        {
          "data": {
            "text/plain": [
              "{'/u/ebdaa5ed',\n",
              " 'https://94040.substack.com/p/bamboo-learnings',\n",
              " 'https://aashisha.substack.com/p/the-mind-bin',\n",
              " 'https://acaiberry.substack.com/p/analog-oasis',\n",
              " 'https://adia.substack.com/p/the-language-of-limitation',\n",
              " 'https://amberthe.substack.com/p/love-needs-more-nothing',\n",
              " 'https://amitwrites.substack.com/p/survival-of-the-kindest',\n",
              " 'https://anthonymarigold.substack.com/p/guerrilla-writers-and-the-literary',\n",
              " 'https://axiacore.com/blog/what-can-we-learn-from-a-race-car-driver-about-business-949/',\n",
              " 'https://beckyisj.substack.com/p/on-being-the-responsive-kid',\n",
              " 'https://blog.amitbhatnagar.com/p/when-a-million-dreams-were-not-enough',\n",
              " 'https://changealchemist.substack.com/p/a-sharp-knife-is-all-i-need?r=4qrg7',\n",
              " 'https://changesurfer.substack.com/p/how-to-walk-to-a-mens-group',\n",
              " 'https://chengweihu.substack.com/p/emotional-freedom',\n",
              " 'https://clairebutler.substack.com/p/looking-my-fertility-cliff-in-the',\n",
              " 'https://coco.substack.com/p/slow-spaces-for-conversation',\n",
              " 'https://crustylittle.substack.com/p/the-words-that-got-away-a-case-for',\n",
              " 'https://davekang.substack.com/p/the-octopus-economy-is-here',\n",
              " 'https://docs.google.com/document/d/13sDRrVqSd3Hwf9RHYPBOPVWH4SHbsWNtgj3waXE5_Yg/edit?usp=sharing',\n",
              " 'https://docs.google.com/document/d/1FpJA_7Pj97tl0eGVVms32zVS_T2dl8LtVAG8lngw3Lo/edit?usp=sharing',\n",
              " 'https://docs.google.com/document/d/1IYEGixgy8ER-yXE7GVh0xRXj5ad_G7RaJMQ5xfm-Go8/edit?usp=sharing',\n",
              " 'https://docs.google.com/document/d/1KGPKPtd-IkbsQWuB7kBt2lFHAhrHFXGvlmjI_OUxDfo/edit?usp=sharing',\n",
              " 'https://docs.google.com/document/d/1VDoVxNm09rGbzhSrv7D9F8-avZj8oaBJA3u-zBVgd-w/edit?usp=sharing',\n",
              " 'https://docs.google.com/document/d/1nHq0wCGdadzLo1AjRhiB_gjYSHOhKFClm_nUQyaU8hQ/edit?usp=sharing',\n",
              " 'https://docs.google.com/document/d/1nwRQSdXJtBGz6sOJcgVVpZlmzHia4dBIR-dSghnaX_U/edit?tab=t.0#heading=h.f1wcahryss2s',\n",
              " 'https://docs.google.com/document/d/1vqPh3RCWhPIX6Zay-EboXdTA1yLAdrOnUP-7ZDXsqyQ/edit?usp=sharing',\n",
              " 'https://docs.google.com/document/d/1xMWok0ZNIWrPkbvAwq-tkM1YTvS2cZ-tJ8Oy7x_HFsE/edit?usp=sharing',\n",
              " 'https://economicsofglory.substack.com/p/trust-is-expensive-and-were-all-going',\n",
              " 'https://emilybrooke.substack.com/p/love-sweet-love-when-poetry-matters',\n",
              " 'https://furniturecoins.substack.com/p/regretting-non-motherhood',\n",
              " 'https://hadijalali.substack.com/p/unfixing-silence',\n",
              " 'https://happypixels.substack.com/p/death-fatherhood-and-ayahuasca',\n",
              " 'https://harihkanth.substack.com/p/just-do-the-thing',\n",
              " 'https://heynate.me/soft-ambition/',\n",
              " 'https://hollychen.substack.com/p/influencer-marketing-is-emerging',\n",
              " 'https://ianmartorana.substack.com/p/the-death-of-serendipity',\n",
              " 'https://informednaivety.substack.com/p/exploring-limiting-beliefs-with-ai',\n",
              " 'https://inneradventure.substack.com/p/welcome-to-iran',\n",
              " 'https://jeffgiesea.substack.com/p/apes-unlimited-bananas-abundance',\n",
              " 'https://jeffgiesea.substack.com/p/lamplighter-problem-ai',\n",
              " 'https://jeshuaglanzmann.substack.com/p/how-the-internet-ruined-my-life-and',\n",
              " 'https://joeballou.substack.com/p/the-worship-of-wealth-part-1-the?r=67lsy',\n",
              " 'https://jwilson.posthaven.com/micro-moments-a-stepfathers-guide-to-invisible-love',\n",
              " 'https://kaichun.substack.com/p/my-lighthouse-to-kindness',\n",
              " 'https://landino.substack.com/p/the-decline-of-wonder',\n",
              " 'https://maps.app.goo.gl/avgVroAHjSWLseg89',\n",
              " 'https://newmonday.substack.com/p/little-moments-of-awe',\n",
              " 'https://newsletter.bhavaniravi.com/p/business-doesnt-come-with-errors-and-tracebacks?utm_source=wop',\n",
              " 'https://open.substack.com/pub/aliviaduran/p/independence-is-overrated?r=2er66&utm_campaign=post&utm_medium=web',\n",
              " 'https://open.substack.com/pub/amitwrites/p/survival-of-the-kindest?r=24qqy6&utm_campaign=post&utm_medium=web&showWelcomeOnShare=true',\n",
              " 'https://open.substack.com/pub/attuned/p/the-good-ancestor?r=tabyd&utm_campaign=post&utm_medium=web&showWelcomeOnShare=true',\n",
              " 'https://open.substack.com/pub/bluemamba/p/you-can-talk-to-each-other?r=1fxbie&utm_campaign=post&utm_medium=web&showWelcomeOnShare=true',\n",
              " 'https://open.substack.com/pub/brandonleeweaver/p/save-toilet-time?r=4h93n&utm_campaign=post&utm_medium=web&showWelcomeOnShare=true',\n",
              " 'https://open.substack.com/pub/carlosdexplorer/p/surf-and-the-art-of-solopreneurship?r=4ddc4f&utm_campaign=post&utm_medium=web&showWelcomeOnShare=true',\n",
              " 'https://open.substack.com/pub/catalinamunoz/p/what-a-building-inspired-by-dantes?r=qk8v4&utm_campaign=post&utm_medium=web',\n",
              " 'https://open.substack.com/pub/ceehart/p/empty-calorie-innovation-is-a-bad?r=fa6il&utm_campaign=post&utm_medium=web&showWelcomeOnShare=true',\n",
              " 'https://open.substack.com/pub/conscrumptious/p/a-life-lost-in-wonder?r=kku8e&utm_campaign=post&utm_medium=web&showWelcomeOnShare=true',\n",
              " 'https://open.substack.com/pub/curiouspollyanna/p/5-things-i-wish-parents-told-me-before?r=kf96r&utm_campaign=post&utm_medium=web&showWelcomeOnShare=true',\n",
              " 'https://open.substack.com/pub/damon527177/p/the-249-truth-about-billionaires?r=13ihwp&utm_campaign=post&utm_medium=web&showWelcomeOnShare=true',\n",
              " 'https://open.substack.com/pub/ed0ceja/p/in-search-of-meaning?r=28zt54&utm_campaign=post&utm_medium=web&showWelcomeOnShare=true',\n",
              " 'https://open.substack.com/pub/fragmentsofhumanity/p/wrestling-with-the-divine?r=3kho4r&utm_campaign=post&utm_medium=web&showWelcomeOnShare=true',\n",
              " 'https://open.substack.com/pub/friendsintandem/p/how-to-bury-a-friend?r=9cf06&utm_campaign=post&utm_medium=web',\n",
              " 'https://open.substack.com/pub/intriguedbyanything/p/my-apartment-my-storage-unit?r=8ivit&utm_campaign=post&utm_medium=web&showWelcomeOnShare=true',\n",
              " 'https://open.substack.com/pub/jakeballinger/p/look-at-the-map-and-notice-the-world?r=36e58z&utm_campaign=post&utm_medium=web&showWelcomeOnShare=true',\n",
              " 'https://open.substack.com/pub/jasonblydell/p/joy-works-better?r=wd1aa&utm_campaign=post&utm_medium=web&showWelcomeOnShare=true',\n",
              " 'https://open.substack.com/pub/javierpgomez/p/third-times-the-missing-element-in?r=m02zp&utm_campaign=post&utm_medium=web',\n",
              " 'https://open.substack.com/pub/lindakaun/p/from-fighters-stance-to-shall-we?r=4jfisi&utm_campaign=post&utm_medium=web&showWelcomeOnShare=true',\n",
              " 'https://open.substack.com/pub/natashaleewj/p/finding-my-identity-through-kintsugi?r=2chmo3&utm_campaign=post&utm_medium=web&showWelcomeOnShare=true',\n",
              " 'https://open.substack.com/pub/omars/p/underrated-curiosity-effects?r=n1igl&utm_campaign=post&utm_medium=web&showWelcomeOnShare=true',\n",
              " 'https://open.substack.com/pub/orgchart/p/the-lure-of-career-optionality?r=1fmm7&utm_campaign=post&utm_medium=web&showWelcomeOnShare=true',\n",
              " 'https://open.substack.com/pub/pefitch/p/blessed-be-thy-homies?r=4loiis&utm_campaign=post&utm_medium=web&showWelcomeOnShare=true',\n",
              " 'https://open.substack.com/pub/productiveprocrastination/p/how-i-built-my-second-brain-using?r=4j39mc&utm_campaign=post&utm_medium=web',\n",
              " 'https://open.substack.com/pub/quandarylabs/p/making-maps?r=1kn5m0&utm_campaign=post&utm_medium=web&showWelcomeOnShare=true',\n",
              " 'https://open.substack.com/pub/rebeccasreviere/p/slow-down-art-matters?r=s33aa&utm_campaign=post&utm_medium=web',\n",
              " 'https://open.substack.com/pub/reimaginings/p/going-solo-isnt-the-answer-we-need?r=1or7m&utm_campaign=post&utm_medium=web',\n",
              " 'https://open.substack.com/pub/ryandreyer/p/emotional-regulation-through-athletic?r=38wix&utm_campaign=post&utm_medium=web&showWelcomeOnShare=true',\n",
              " 'https://open.substack.com/pub/salmanza/p/9-to-5-perimenopausal-progress?r=99rkp&utm_campaign=post&utm_medium=web',\n",
              " 'https://open.substack.com/pub/scoutjim/p/that-email-can-wait?r=4m1yvv&utm_campaign=post&utm_medium=web&showWelcomeOnShare=true',\n",
              " 'https://open.substack.com/pub/subbaorg/p/comic-books-will-rot-your-brain?r=1pgjtj&utm_campaign=post&utm_medium=web&showWelcomeOnShare=true',\n",
              " 'https://open.substack.com/pub/technofable/p/escaping-goodreads-gravity-well?r=4fo2e3&utm_campaign=wop2&utm_medium=web&showWelcomeOnShare=true',\n",
              " 'https://open.substack.com/pub/thecuriosityventure/p/product-managers-should-remember?utm_source=app-post-stats-page&r=20uly&utm_medium=ios',\n",
              " 'https://open.substack.com/pub/thegoodmutha/p/showing-up-for-the-right-relationships?r=3hcti&utm_campaign=post&utm_medium=web&showWelcomeOnShare=true',\n",
              " 'https://open.substack.com/pub/thejaunt/p/the-joy-of-rediscovering-yourself?r=38r6&utm_campaign=post&utm_medium=web&showWelcomeOnShare=true',\n",
              " 'https://open.substack.com/pub/treadstonecapital/p/if-you-want-it?r=3ztm59&utm_campaign=post&utm_medium=web&showWelcomeOnShare=true',\n",
              " 'https://open.substack.com/pub/zainmeghji/p/write-it-down?r=4siun&utm_campaign=post&utm_medium=web&showWelcomeOnShare=true',\n",
              " 'https://petebutters.substack.com/p/pepper-sprayed-in-paris',\n",
              " 'https://pragmatticdesign.substack.com/p/dear-student-of-design?r=402f2',\n",
              " 'https://pspfrench.com/toxic-humility/',\n",
              " 'https://substack.com/home/post/p-150920628',\n",
              " 'https://substack.com/home/post/p-150954329?r=1tuwtk&utm_campaign=post&utm_medium=web',\n",
              " 'https://substack.com/home/post/p-150974994',\n",
              " 'https://substack.com/home/post/p-150975877?r=46w9b4&utm_campaign=post&utm_medium=web',\n",
              " 'https://substack.com/home/post/p-151063366',\n",
              " 'https://substack.com/home/post/p-151084538',\n",
              " 'https://substack.com/home/post/p-151264351',\n",
              " 'https://the-ascend-archives.beehiiv.com/p/living-life-by-design',\n",
              " 'https://thecopywise.com/articles/f/the-things-we-give-up-when-we%E2%80%99re-rushing-through-life',\n",
              " 'https://thestrategyguild.substack.com/p/learning-is-an-act-of-sovereignty',\n",
              " 'https://vipuldevluk.substack.com/p/how-much-of-us-is-repetition',\n",
              " 'https://wanderingwithwaning.substack.com/p/gn-49-figuring-out-whats-the-plan',\n",
              " 'https://wumanchu.ghost.io/you-can-not-perceive-percipience-frontier-the-a-side/',\n",
              " 'https://www.aquestionablelife.com/p/separation',\n",
              " 'https://www.benjaminmilham.com/loveletters/food-doesnt-taste-better-with-friends',\n",
              " 'https://www.deeptichopra.com/p/failing-publicly',\n",
              " 'https://www.honestlyhuman.com/p/the-antidote-to-writers-block-is',\n",
              " 'https://www.thenewworkday.com/p/social-awkwardness-questions?r=ix7rp&utm_campaign=post&utm_medium=web',\n",
              " 'https://www.yearoftheopposite.com/p/the-world-needs-more-male-friendships',\n",
              " 'https://www.zeeshaan.net/p/a-place-where-adults-can-be-kids',\n",
              " 'https://x.com/AirKistler/status/1852059817814429765'}"
            ]
          },
          "execution_count": 3,
          "metadata": {},
          "output_type": "execute_result"
        }
      ],
      "source": [
        "result = get_all_urls()"
      ]
    },
    {
      "cell_type": "markdown",
      "metadata": {
        "id": "vNJKvs9FMrC1"
      },
      "source": [
        "# Step 2: Cleanup Urls"
      ]
    },
    {
      "cell_type": "code",
      "execution_count": null,
      "metadata": {
        "id": "LIk-Go4DtPfC"
      },
      "outputs": [],
      "source": [
        "def filter_urls(links):\n",
        "    # Combined pattern to match URLs starting with https and not containing 'google' or 'twitter'\n",
        "    pattern = r\"^https://(?!.*(google|twitter))[^?\\s]*\"\n",
        "\n",
        "    # Filter and clean up URLs in one step\n",
        "    cleaned_urls = [\n",
        "        re.match(pattern, url).group(0)\n",
        "        for url in links\n",
        "        if re.match(pattern, url)\n",
        "    ]\n",
        "\n",
        "    return cleaned_urls"
      ]
    },
    {
      "cell_type": "code",
      "execution_count": null,
      "metadata": {
        "colab": {
          "base_uri": "https://localhost:8080/"
        },
        "id": "kTPdxu98tSIX",
        "outputId": "b7703b11-7d6e-4573-b44f-cc3a80f86bb1"
      },
      "outputs": [
        {
          "data": {
            "text/plain": [
              "99"
            ]
          },
          "execution_count": 6,
          "metadata": {},
          "output_type": "execute_result"
        }
      ],
      "source": [
        "published_articles = filter_urls(result)\n",
        "len(published_articles)"
      ]
    },
    {
      "cell_type": "markdown",
      "metadata": {
        "id": "y3atLF8lMzj8"
      },
      "source": [
        "# Step 3: Scrape articles and save to CSV"
      ]
    },
    {
      "cell_type": "code",
      "execution_count": null,
      "metadata": {
        "id": "W-6mMfNawFbF"
      },
      "outputs": [],
      "source": [
        "import requests\n",
        "from bs4 import BeautifulSoup\n",
        "import csv\n",
        "import time\n",
        "\n",
        "def scrape_article(url):\n",
        "    try:\n",
        "        # Fetch the webpage\n",
        "        response = requests.get(url)\n",
        "        response.raise_for_status()  # Check if the request was successful\n",
        "\n",
        "        # Parse the HTML content\n",
        "        soup = BeautifulSoup(response.text, 'html.parser')\n",
        "\n",
        "        # Extract the main article content\n",
        "        article_contents = soup.find_all('p')\n",
        "\n",
        "        text = \"\"\n",
        "        if len(article_contents) > 0:\n",
        "          for article_content in article_contents:\n",
        "              # Remove all HTML tags and get the text\n",
        "              text += article_content.get_text(separator='\\n').replace(\"\\n\", \"\").strip()\n",
        "          print(\"length of article\", len(text))\n",
        "          return text\n",
        "        else:\n",
        "            print(\"Could not find the article content on the page.\")\n",
        "            return None\n",
        "\n",
        "    except requests.exceptions.RequestException as e:\n",
        "        print(f\"An error occurred while fetching the URL: {e}\")\n",
        "        return None\n",
        "\n",
        "def save_articles_to_csv(urls, output_file, mode):\n",
        "    # Open the CSV file in write mode\n",
        "    with open(output_file, mode, newline='', encoding='utf-8') as csv_file:\n",
        "        writer = csv.writer(csv_file)\n",
        "\n",
        "        # Write the header\n",
        "        writer.writerow(['URL', 'Article'])\n",
        "\n",
        "        # Scrape each URL and write the data to the CSV\n",
        "        for url in urls:\n",
        "            print(f\"Scraping URL: {url}\")\n",
        "            article_text = scrape_article(url)\n",
        "            time.sleep(1)\n",
        "\n",
        "            if article_text:\n",
        "                # Write the URL and article content to the CSV file\n",
        "                writer.writerow([url, article_text])\n",
        "                print(f\"Article saved for URL: {url}\")\n",
        "            else:\n",
        "                print(f\"Failed to retrieve content for URL: {url}\")\n",
        "\n"
      ]
    },
    {
      "cell_type": "code",
      "execution_count": null,
      "metadata": {
        "id": "Xb2F_mjDpCgs"
      },
      "outputs": [],
      "source": [
        "save_articles_to_csv(substack_articles[:50], \"articles\", \"w\")"
      ]
    },
    {
      "cell_type": "code",
      "execution_count": null,
      "metadata": {
        "id": "xy7B0Ozn1bbi"
      },
      "outputs": [],
      "source": [
        "save_articles_to_csv(substack_articles[50:], \"articles\", \"a\")"
      ]
    },
    {
      "cell_type": "markdown",
      "metadata": {
        "id": "1hFGFYvVNCR6"
      },
      "source": [
        "# Step 5: generate embeddings for articles"
      ]
    },
    {
      "cell_type": "code",
      "execution_count": null,
      "metadata": {
        "id": "dV2yVuhONGdJ"
      },
      "outputs": [],
      "source": [
        "def pairing_author_score(authors, scores):\n",
        "  return list(zip(authors, scores))\n",
        "\n",
        "# Function to get embedding for text\n",
        "def get_embedding(text):\n",
        "    response = client.embeddings.create(input=text, model=\"text-embedding-3-small\")\n",
        "    return response.data[0].embedding\n",
        "\n",
        "def calculate_similarity_score(theme_query, classmates_embeddings):\n",
        "  similarities = cosine_similarity([theme_query], classmates_embeddings)[0]\n",
        "  authors_scores = list(zip(urls, similarities))\n",
        "  sorted_list = sorted(authors_scores, key=lambda x: x[1], reverse=True)\n",
        "\n",
        "  # Step 4: Sort and display top matching essays\n",
        "  # = np.argsort(similarities)[::-1]  # Sort in descending order\n",
        "  #top_similar_essays = [(i, similarities[i]) for i in sorted_list[:10]]  # Top 10 matches\n",
        "  for (url, score) in sorted_list:\n",
        "    print(f\"{url} : {score}\")\n",
        "  return sorted_list"
      ]
    },
    {
      "cell_type": "code",
      "execution_count": null,
      "metadata": {
        "id": "I3U4O98kh8KT"
      },
      "outputs": [],
      "source": [
        "save_articles_to_csv(published_articles, \"articles.csv\", \"w\")"
      ]
    },
    {
      "cell_type": "code",
      "execution_count": null,
      "metadata": {
        "id": "69dS6JHPOTLw"
      },
      "outputs": [],
      "source": [
        "import pandas as pd\n",
        "df = pd.read_csv('articles.csv')"
      ]
    },
    {
      "cell_type": "code",
      "execution_count": null,
      "metadata": {
        "colab": {
          "base_uri": "https://localhost:8080/",
          "height": 206
        },
        "id": "OTAokFsrOTOk",
        "outputId": "10c67a89-7807-446c-9b85-fd2fbe0952fe"
      },
      "outputs": [
        {
          "data": {
            "application/vnd.google.colaboratory.intrinsic+json": {
              "summary": "{\n  \"name\": \"df\",\n  \"rows\": 5,\n  \"fields\": [\n    {\n      \"column\": \"URL\",\n      \"properties\": {\n        \"dtype\": \"string\",\n        \"num_unique_values\": 5,\n        \"samples\": [\n          \"https://pspfrench.com/toxic-humility/\",\n          \"https://chenshuz.substack.com/p/burning-man-stories-how-to-figure\",\n          \"https://thestrategyguild.substack.com/p/learning-is-an-act-of-sovereignty\"\n        ],\n        \"semantic_type\": \"\",\n        \"description\": \"\"\n      }\n    },\n    {\n      \"column\": \"Article\",\n      \"properties\": {\n        \"dtype\": \"string\",\n        \"num_unique_values\": 5,\n        \"samples\": [\n          \"First I must tip my hat to the absurdity of this position. We all know humility is a positive trait. It is one of Benjamin Franklin\\u2019s 13 virtues. It sits with competence and honor and responsibility. It is the guiding hand of Jesus, Socrates and everyone\\u2019s favorite grandma. It is the sort of quality a parent aspires to cultivate in a child. So I feel like I\\u2019ve just walked into a saloon at sunset and slung my testicles on the bar. But let\\u2019s see how it plays out.Consider this: the dictionary says humility means to be humble. \\u201cHumble beginnings\\u201d are recognized as modest, ordinary, and respectful. But from all I\\u2019ve seen, what it means, in day-to-day-life and business, its cause and effect, is to be hurt. Humility presents itself as a virtue and a safe moral path. But tell me, what other virtue you know leads to self-doubt, stifles ambition, causes overthinking, hinders self-expression, impairs leadership and makes you an unreliable friend? Which other quality of character reduces goal setting and tanks productivity? If you\\u2019ve experienced any of these symptoms, that\\u2019s humility gnawing at your soul.When I quit my 9-5 and became a freelance copywriter, I invested in a copywriting course from a Canadian luminary, Tej Dosa. Went slow, took copious notes. One of the sections was called \\u2018The Right Assumptions.\\u2019 It was a list of self-talk snippets to repeat to yourself on a daily basis. Here\\u2019s a sample: \\u201cI can influence the outcome by thinking like a smart guy, but executing like a high-energy dumb guy . . . I am enthusiastic as hell, sharp as a tack, and a figure of authority . . . I do not tolerate disrespect, clients who hassle over price, clients who show up late to meetings, clients who are rude.\\u201d And you might be smirking, but they worked. Turns out it pays to know what to say when you talk to yourself.I believe most people can taste the truth in the sandwich here. Take for example the brilliant young professional who downplays her abilities so gets passed over for promotion in favor of louder, less proficient colleagues. Or the plight of Charlie Brown from the \\u201cPeanuts\\u201d comic, who can\\u2019t bring himself to kick a football or talk to the little red-haired girl. His cycle of disappointment becomes a self-fulfilling prophecy. He expects to fail and then he does. And Gandhi was a cool dude but I always remember that scene from Fight Club when Ed Norton\\u2019s character is brushing his teeth with blood. He spits in the sink then says if he could fight any character from history it\\u2019d be Mahatma, the humble icon of peace.In freelance copywriting, self-promotion is a key part of the game. You play or get played. A couple of years ago there was an exciting gig on the market. I didn\\u2019t put my name in the hat because I heard someone who I assumed was a better candidate than me was also interested. Two months later, the job came up again. The client wasn\\u2019t happy because the guy I believed was such a hot shot wasn\\u2019t up to the task. You need to tell people how confident you are that you can help them. You have to take charge of your reputation and share your results. If you don\\u2019t, others with less ability and more chutzpah will take that work. That\\u2019s a lose-lose for the client and you. The world is competitive enough. You don\\u2019t need to tie your own shackles. As C.S. Lewis says in The Screwtape Letters, \\u201cHumility means pretty women trying to believe they are ugly and clever men trying to believe they are fools.\\u201dThe strange and savage law of the jungle is there are winners out there who have a fraction of the skill and smarts you might think. Others who seem to have it all still fail. What really matters is how badly you want it, how well you can adapt when things get tough, and how willing you are to take the hits. You might come back with \\u201cBut why can\\u2019t you be humble and assertive at the same time?\\u201d There are some instances of this \\u2013 and some great sportsmen like Lionel Messi and Roger Federer spring to mind \\u2013 but statistically it\\u2019s unlikely. You need to force your psyche forwards. Humility is a handbrake and the difference between winners and losers is a bias towards action.When you act there is a vibe, a force, an energy, a quickening that comes through you into the moment. If you stall, it is lost. The world will not see you. And you will be left with your own numb opinion of how brave or valuable you might have been. Imagine the agony of finding out you could have been the best in the world at something, but you let it rot. Everyone needs a touch of humility to be human but don\\u2019t be so humble that you shy away even when you know you could do the job (and do it well). The question to ask yourself is whether your humility is a form of dignity and power or a smokescreen for fear and self-doubt. Know your strengths and capabilities without arrogance, and recognize your limitations without talking down to yourself.There are portals. Toss toxic humility aside and jam them open. Let the wind howl and your self-doubt scatter. Approach life with the languorous confidence of a jungle cat. There is no shame in telling people what you\\u2019re good at and there is no shame in reminding them what you\\u2019ve accomplished.I say let\\u2019s have less humility.And with it, more grace.All rights reserved\",\n          \"At 24, I had a well-paid job and a boyfriend good with money. The next steps were to get married, buy a house, help my parents immigrate to Canada, have kids and be happy thereafter. Yet I felt my world was a bit motionless, constrained and isolated. I looked around my friends and colleagues, no inspiration could be drawn to envision different ways of living.I knew something was missing. But what was it? What did it look like? Where should I go to find it? These were all blurry to me. Maybe it was time to search for the unknown unknown somewhere else: the land of possibilities, lizards, aliens and spirits \\u2014 Burning Man.2023 August 26th, 10:00 am, home campBurningman takes place in an off-the-grid desert. As an imperfect human, I need Wifi to be complete. I heard someone in our camp had Starlink.\\u201cHey Romy, may I use your wifi?\\u201d I asked, finding the Wi-Fi God sitting in the shade of his RV.\\u201cYea I was wondering why you would look for me\\u2026of course\\u201d he said, maybe this was the 101st time he got this question, but he still generously shared the password.While enjoying the free WIFI, I couldn\\u2019t help but notice his vehicle. It\\u2019s red, kind of like a\\u2026firetruck ?\\u201cThis baby was an ambulance,\\u201d he said, clearly proud. \\u201cI spent months remodeling it into an RV. I\\u2019ve driven it all over the States, living and working in it. Even now, I\\u2019m technically \\u2018at work.\\u2019\\u201dTurned out Romy had been living the digital nomad dream since COVID when quarantine had taken a toll on his mental health. He traveled across the country, went mountain biking in different states, and made many new friends.Before him, I\\u2019ve never met any nomads in real life\\u2014they were like urban legends to me, with mysterious and liberating lifestyles. I would love the balance of work and world exploration, but always feared disconnecting from friends or the sting of loneliness. But watching Romy? It seemed\\u2026doable. Maybe I could try it out someday? Could this wild, untethered freedom be the missing piece in my stable yet stagnant life? Could the courage and bias for action be the key to breaking free from my dilemma?2023 August 26th, 12:00 pm, home campThe chat with Romy left me thinking about my future. Would I end up a nomad, roaming the world? Deep in thought, I roamed first into the kitchen, where I spotted Inanna, perched at the table with a deck of tarot cards in hand.Just in time!Inanna and I were the same age but she\\u2019s one of the healers in our camp with the ability to soothe worn-out souls. \\u201cGo ahead, pick a card.\\u201d she said, fanning out the deck in front of me. I reached in and pulled one.Wonderful\\u2026This is what I got on my first draw of my first tarot reading.\\u201cWoa! A big one. Not necessarily bad \\u2014 It could mean a new start.\\u201d Inanna said, pivoting the interpretation skillfully.As she read my future, I also got a glimpse into her past. Despite the same age, our lives were totally different. My life was like a chess game, each step carefully calculated, while hers was like an open-world RPG, with a series of spontaneous events weaving together. She was born and raised in Wisconsin, then a few years surfing and waiting tables in Hawaii, and now working 12-hour days on a friend's pot farm in Nevada while studying astrology at a community college!She\\u2019s like a pro surfer riding the wave of life going wherever her heart took her.What if I loosened my grip on my money anxieties and let myself chase my interests, a little more like Inanna? Could this freedom and self-trust be the missing pieces I needed?The last card I drew was a lady taming a lion.\\u201cDespite the hardships along the way,\\u201d Inanna said with a smile, \\u201cyou will find inner strength in the end.\\u201d2023 August 26th, 2:00 pm, home campEnough fooling around, it\\u2019s time to get to work. Healer Barney called me over to assist in one of his sessions.A lady with brown hair was already sitting in the dome waiting for us.\\u201cI want to pray,\\u201d said her.\\u201cOh? What does that mean?\\u201d Barney began drumming softly in front of her. \\u201cI don\\u2019t know about praying. What does it mean to you?\\u201d he asked, tossing the question back to her.The lady started sharing her story in a trembling voice, \\u201cI have cancer and I\\u2019m dying. But I don't care. I\\u2019m here to pray for my friend\\u2019s kid who\\u2019s also sick. I just want him to be okay. I love him so much\\u2026\\u201d\\u201cBut I care about you!\\u201d Barney interrupted kindly, \\u201cForget about the kid for a second. He\\u2019s going to be alright. Let\\u2019s talk about you.\\u201d His words were precise, like a surgeon locating the wound, shifting her attention inward.I would never forget that afternoon. Under the bright desert sun, dust floating in the air, their eyes looking into each other, reaching the deepest part of their souls.\\u00a0 As I was hugging the lady, feeling the warmth of her body, never have I felt so close to someone I just met for the first time, as if she was a family..Barney\\u2019s words were so powerful, igniting a desperate person\\u2019s hope in just a few minutes. I felt something buried deep in me was erupting to the surface. I haven\\u2019t felt such an intense and genuine connection in so long. Could I care for people, help people, love people even if we were strangers?\\u00a0 Could this kind of connection be the missing piece in my utilitarian world?That night, I was sent to a death ritual in the deepest part of the desert.My face pressed into the coarse sand. Wind carried the scent of dust. Living as an experience has never felt so concrete before. The digital nomad, the surfer, the healer\\u2026maybe my world was missing a bit of freedom, courage, community, humanity\\u2026I could not figure out these missing pieces unless I step into the unknown.As the death card predicted, the end of Burning Man marked the beginning of my exploration in the real world.With the courage and freedom gifted by Romy and Inanna, I embraced the nomad lifestyle, spending a month each in Mexico, China and New York. I met inspiring humans building communities that empower each other to live authentically and collaborate to improve education and social connection. If it weren\\u2019t for Barney and the praying lady showing me how strangers could connect like families, I would never have overcome the fear of leaving my current friend circle and opening my heart so much.I\\u2019m still piecing together who I want to become, but everyday I\\u2019m discovering more shiny dimes: a bit of Romy, a bit of Inanna, a bit of Barney \\u2014 each reveals something I didn\\u2019t know I was looking for, helping me see the edges of who I am and the shape I want to take. In some way, every piece makes me a little more of Chenshu.It's almost like you needed to lose sight of the old map before you could start mapping a place of your own!No postsReady for more?\",\n          \"Learning is the ultimate meta-skill. Skills. Knowledge. Mindsets. These compound through life with our ability to learn. The better we are at owning our learning, the better life can become. Learning is our medium of power.But schools and universities don't teach us how to learn.Dry curriculums. Rigid grade systems. Routinized time tables. These cathedrals of education are optimized for a different outcome.Compliance, not individual progress.At 14, I met my reckoning: a Parisian. On vacation, my parents nudged me to talk to a security guard at the Louvre. After a feeble Bonjour, no other words would come out. I wasn\\u2019t tongue tied. It was worse. I didn\\u2019t know how to use my words.But, why did I expect to speak French with a local?Because I had spent 8 years in school, learning \\u2018French\\u2019. Turns out, that was \\u2018School French\\u2019. Grammar rules, sentence structures and vocabulary lists were bursting from the seams of my skull. With my 3 hour written exams and casual reading of essays about Joan D\\u2019Arc, I figured I was on the path to \\u2018fluency\\u2019.But \\u2018School French\\u2019 was only one of the school system\\u2019s limitations.School is a performance. I was the Lover, chasing my sweetheart, grades. With enough grades, I\\u2019ll be happy. And so, I put in the time. And tears. But, no grades. Jilted, I wondered what was wrong. Did I have to work harder? Was I born dumb?In hindsight, it was my misunderstanding.Schools are machines. It has nothing to do with the individual. I was just a number in this system. Not my knowledge or skills, just my ability to score. It wasn\\u2019t about learning, but acing the test. My excitement or innate interests weren't going to serve me. To tap into those interests, I had to embrace learning on my own. Learning by my own design.I realized I had to learn by curiosity.Every system has \\u2018waste\\u2019. For schools, that\\u2019s Summer Projects.The school system\\u2019s way to give \\u2018homework\\u2019 for vacation. With no grades attached, it is intended as a pointless chore.I loved it.The \\u2018pointless chore\\u2019, was an excellent excuse for deep rabbit holes. From the history of feudalism to the Reserve Bank of India\\u2019s monetary policy, I was consuming knowledge like a forest fire. With curiosity as my light, it didn\\u2019t matter how \\u2018smart\\u2019 I was. I could learn as much as I could.Curiosity is energy. Without direction, that candlelight can lose control. In the name of curiosity, my summer projects were engaging. But they didn\\u2019t move the needle in my life.Going down rabbit holes can become productive, with your own sense of direction.A great example is CGP Grey\\u2019s YouTube channel. With 6M subscribers, it\\u2019s one of the largest and longest running channels. And it\\u2019s powered by niche deep dives.CGP Grey\\u2019s videos have no theme or pattern. Grey jumps into topics as an amateur and through The Forest of All Knowledge, he comes out from the darkness with his videos.These forays can be month-long journeys into the unknown. For instance he has a video called \\u201cSomeone Dead Ruined My Life\\u2026Again\\u201d which is a spin-off from another video about the medieval origins of the name \\u2018Tiffany\\u2019.This video covers his 6 months sojourn down medieval history. The twists and intellectual detours make my head shake in wonder.In Grey\\u2019s own words, these videos don\\u2019t really make business sense. Here\\u2019s the kicker: this video has 8.3 million views. From a channel standpoint, this video is a success.The question is, can we be like CGP Grey?Yes. And we don\\u2019t have to have a YouTube channel.CGP Grey is a sample of one. And that\\u2019s the point. Grey created his own direction. He repackaged his bugs into something valuable for his audience.For the rest of us, we need to take a step back. We need to borrow from somewhere we bashed early in this piece.We need learning goals, like in traditional education.Almost 8 years post highschool French, I put my learning skills to the test. Somehow, I got a masters program acceptance in France. And I took this acceptance, as a sign I should take up French again.This time, I was going to actually learn the language, not \\u2018School French\\u2019.Curiosity driven flings are fun, but not long lasting or impactful in one\\u2019s life. You need to use what you\\u2019ve learned in a specific fashion. For schools, those are exam papers. For CGP Grey that\\u2019s his YouTube channel. For my french learning efforts, this was to have conversations.I luckily found one French colleague and sat with her during coffee breaks to attempt speaking the language. Through broken phrases and my colleague\\u2019s patience, I was managing to get used to speaking.In a month, I was speaking better French than after 9 years of 'learning\\u2019 the language.Learning is a path you define for yourself. Traditional education serves a different purpose (e.g. grades) that is not always aligned with your goals. But curiosity alone is not enough. Curiosity is a fire and can be uncontrollable. Without direction, we can end up never making meaningful progress.Our opportunity is to set our own learning goals, to keep the end in mind when learning anything.To learn curiously, with direction.The Strategy Guild is a reader-supported publication. To receive new posts and support my work, consider becoming a free or paid subscriber.Yeah, The idea of skill building services for graduates sounds good! I'm sure there's a market for it, especially among the current work force. However, charging employers for it is a concept that hasn't made its way into the mainstream in India but is definitely a win-win for both parties.I fully agree with your point about universities being run by bureaucrats and not willing to adapt. I recently came accross a piece that highlighted the current scenario of education especially for yound children very well. I really liked it- https://open.substack.com/pub/simonsarris/p/school-is-not-enough?utm_source=share&utm_medium=android&r=1d3zrpAnother beautiful piece ved! Really resonated with me. I recently came accross a statistic published by the indian govt that roughly 50% of graduates in India are unemployable. To me this conveys the deep disconnect between our education system and what's valuable to the economy. Education is not complete without invoking critical thinking and practicality in the students. Let's be honest, there's probably only a handful of people that would require the use of deep mathematical concepts in their professional lives, it's extremely puzzling then, why even today the education system forces and grades students on their ability to memorise these concepts. I think there's an urgent need for the education system to adapt, after all we are living in the age of exponential change and our ability to keep up with it is going to define our trajectory in the long term.No postsReady for more?\"\n        ],\n        \"semantic_type\": \"\",\n        \"description\": \"\"\n      }\n    }\n  ]\n}",
              "type": "dataframe"
            },
            "text/html": [
              "\n",
              "  <div id=\"df-41bf4939-2227-4e47-bb64-d5600363351d\" class=\"colab-df-container\">\n",
              "    <div>\n",
              "<style scoped>\n",
              "    .dataframe tbody tr th:only-of-type {\n",
              "        vertical-align: middle;\n",
              "    }\n",
              "\n",
              "    .dataframe tbody tr th {\n",
              "        vertical-align: top;\n",
              "    }\n",
              "\n",
              "    .dataframe thead th {\n",
              "        text-align: right;\n",
              "    }\n",
              "</style>\n",
              "<table border=\"1\" class=\"dataframe\">\n",
              "  <thead>\n",
              "    <tr style=\"text-align: right;\">\n",
              "      <th></th>\n",
              "      <th>URL</th>\n",
              "      <th>Article</th>\n",
              "    </tr>\n",
              "  </thead>\n",
              "  <tbody>\n",
              "    <tr>\n",
              "      <th>78</th>\n",
              "      <td>https://changealchemist.substack.com/p/a-sharp...</td>\n",
              "      <td>I hate weighing myself.This time was worse tha...</td>\n",
              "    </tr>\n",
              "    <tr>\n",
              "      <th>79</th>\n",
              "      <td>https://pspfrench.com/toxic-humility/</td>\n",
              "      <td>First I must tip my hat to the absurdity of th...</td>\n",
              "    </tr>\n",
              "    <tr>\n",
              "      <th>80</th>\n",
              "      <td>https://thestrategyguild.substack.com/p/learni...</td>\n",
              "      <td>Learning is the ultimate meta-skill. Skills. K...</td>\n",
              "    </tr>\n",
              "    <tr>\n",
              "      <th>81</th>\n",
              "      <td>https://chenshuz.substack.com/p/13-no-i-didnt-...</td>\n",
              "      <td>I quit.At the age of 27.Thanks for reading Let...</td>\n",
              "    </tr>\n",
              "    <tr>\n",
              "      <th>82</th>\n",
              "      <td>https://chenshuz.substack.com/p/burning-man-st...</td>\n",
              "      <td>At 24, I had a well-paid job and a boyfriend g...</td>\n",
              "    </tr>\n",
              "  </tbody>\n",
              "</table>\n",
              "</div>\n",
              "    <div class=\"colab-df-buttons\">\n",
              "\n",
              "  <div class=\"colab-df-container\">\n",
              "    <button class=\"colab-df-convert\" onclick=\"convertToInteractive('df-41bf4939-2227-4e47-bb64-d5600363351d')\"\n",
              "            title=\"Convert this dataframe to an interactive table.\"\n",
              "            style=\"display:none;\">\n",
              "\n",
              "  <svg xmlns=\"http://www.w3.org/2000/svg\" height=\"24px\" viewBox=\"0 -960 960 960\">\n",
              "    <path d=\"M120-120v-720h720v720H120Zm60-500h600v-160H180v160Zm220 220h160v-160H400v160Zm0 220h160v-160H400v160ZM180-400h160v-160H180v160Zm440 0h160v-160H620v160ZM180-180h160v-160H180v160Zm440 0h160v-160H620v160Z\"/>\n",
              "  </svg>\n",
              "    </button>\n",
              "\n",
              "  <style>\n",
              "    .colab-df-container {\n",
              "      display:flex;\n",
              "      gap: 12px;\n",
              "    }\n",
              "\n",
              "    .colab-df-convert {\n",
              "      background-color: #E8F0FE;\n",
              "      border: none;\n",
              "      border-radius: 50%;\n",
              "      cursor: pointer;\n",
              "      display: none;\n",
              "      fill: #1967D2;\n",
              "      height: 32px;\n",
              "      padding: 0 0 0 0;\n",
              "      width: 32px;\n",
              "    }\n",
              "\n",
              "    .colab-df-convert:hover {\n",
              "      background-color: #E2EBFA;\n",
              "      box-shadow: 0px 1px 2px rgba(60, 64, 67, 0.3), 0px 1px 3px 1px rgba(60, 64, 67, 0.15);\n",
              "      fill: #174EA6;\n",
              "    }\n",
              "\n",
              "    .colab-df-buttons div {\n",
              "      margin-bottom: 4px;\n",
              "    }\n",
              "\n",
              "    [theme=dark] .colab-df-convert {\n",
              "      background-color: #3B4455;\n",
              "      fill: #D2E3FC;\n",
              "    }\n",
              "\n",
              "    [theme=dark] .colab-df-convert:hover {\n",
              "      background-color: #434B5C;\n",
              "      box-shadow: 0px 1px 3px 1px rgba(0, 0, 0, 0.15);\n",
              "      filter: drop-shadow(0px 1px 2px rgba(0, 0, 0, 0.3));\n",
              "      fill: #FFFFFF;\n",
              "    }\n",
              "  </style>\n",
              "\n",
              "    <script>\n",
              "      const buttonEl =\n",
              "        document.querySelector('#df-41bf4939-2227-4e47-bb64-d5600363351d button.colab-df-convert');\n",
              "      buttonEl.style.display =\n",
              "        google.colab.kernel.accessAllowed ? 'block' : 'none';\n",
              "\n",
              "      async function convertToInteractive(key) {\n",
              "        const element = document.querySelector('#df-41bf4939-2227-4e47-bb64-d5600363351d');\n",
              "        const dataTable =\n",
              "          await google.colab.kernel.invokeFunction('convertToInteractive',\n",
              "                                                    [key], {});\n",
              "        if (!dataTable) return;\n",
              "\n",
              "        const docLinkHtml = 'Like what you see? Visit the ' +\n",
              "          '<a target=\"_blank\" href=https://colab.research.google.com/notebooks/data_table.ipynb>data table notebook</a>'\n",
              "          + ' to learn more about interactive tables.';\n",
              "        element.innerHTML = '';\n",
              "        dataTable['output_type'] = 'display_data';\n",
              "        await google.colab.output.renderOutput(dataTable, element);\n",
              "        const docLink = document.createElement('div');\n",
              "        docLink.innerHTML = docLinkHtml;\n",
              "        element.appendChild(docLink);\n",
              "      }\n",
              "    </script>\n",
              "  </div>\n",
              "\n",
              "\n",
              "<div id=\"df-b2779042-bcae-49da-8033-ce7b7bddf3f7\">\n",
              "  <button class=\"colab-df-quickchart\" onclick=\"quickchart('df-b2779042-bcae-49da-8033-ce7b7bddf3f7')\"\n",
              "            title=\"Suggest charts\"\n",
              "            style=\"display:none;\">\n",
              "\n",
              "<svg xmlns=\"http://www.w3.org/2000/svg\" height=\"24px\"viewBox=\"0 0 24 24\"\n",
              "     width=\"24px\">\n",
              "    <g>\n",
              "        <path d=\"M19 3H5c-1.1 0-2 .9-2 2v14c0 1.1.9 2 2 2h14c1.1 0 2-.9 2-2V5c0-1.1-.9-2-2-2zM9 17H7v-7h2v7zm4 0h-2V7h2v10zm4 0h-2v-4h2v4z\"/>\n",
              "    </g>\n",
              "</svg>\n",
              "  </button>\n",
              "\n",
              "<style>\n",
              "  .colab-df-quickchart {\n",
              "      --bg-color: #E8F0FE;\n",
              "      --fill-color: #1967D2;\n",
              "      --hover-bg-color: #E2EBFA;\n",
              "      --hover-fill-color: #174EA6;\n",
              "      --disabled-fill-color: #AAA;\n",
              "      --disabled-bg-color: #DDD;\n",
              "  }\n",
              "\n",
              "  [theme=dark] .colab-df-quickchart {\n",
              "      --bg-color: #3B4455;\n",
              "      --fill-color: #D2E3FC;\n",
              "      --hover-bg-color: #434B5C;\n",
              "      --hover-fill-color: #FFFFFF;\n",
              "      --disabled-bg-color: #3B4455;\n",
              "      --disabled-fill-color: #666;\n",
              "  }\n",
              "\n",
              "  .colab-df-quickchart {\n",
              "    background-color: var(--bg-color);\n",
              "    border: none;\n",
              "    border-radius: 50%;\n",
              "    cursor: pointer;\n",
              "    display: none;\n",
              "    fill: var(--fill-color);\n",
              "    height: 32px;\n",
              "    padding: 0;\n",
              "    width: 32px;\n",
              "  }\n",
              "\n",
              "  .colab-df-quickchart:hover {\n",
              "    background-color: var(--hover-bg-color);\n",
              "    box-shadow: 0 1px 2px rgba(60, 64, 67, 0.3), 0 1px 3px 1px rgba(60, 64, 67, 0.15);\n",
              "    fill: var(--button-hover-fill-color);\n",
              "  }\n",
              "\n",
              "  .colab-df-quickchart-complete:disabled,\n",
              "  .colab-df-quickchart-complete:disabled:hover {\n",
              "    background-color: var(--disabled-bg-color);\n",
              "    fill: var(--disabled-fill-color);\n",
              "    box-shadow: none;\n",
              "  }\n",
              "\n",
              "  .colab-df-spinner {\n",
              "    border: 2px solid var(--fill-color);\n",
              "    border-color: transparent;\n",
              "    border-bottom-color: var(--fill-color);\n",
              "    animation:\n",
              "      spin 1s steps(1) infinite;\n",
              "  }\n",
              "\n",
              "  @keyframes spin {\n",
              "    0% {\n",
              "      border-color: transparent;\n",
              "      border-bottom-color: var(--fill-color);\n",
              "      border-left-color: var(--fill-color);\n",
              "    }\n",
              "    20% {\n",
              "      border-color: transparent;\n",
              "      border-left-color: var(--fill-color);\n",
              "      border-top-color: var(--fill-color);\n",
              "    }\n",
              "    30% {\n",
              "      border-color: transparent;\n",
              "      border-left-color: var(--fill-color);\n",
              "      border-top-color: var(--fill-color);\n",
              "      border-right-color: var(--fill-color);\n",
              "    }\n",
              "    40% {\n",
              "      border-color: transparent;\n",
              "      border-right-color: var(--fill-color);\n",
              "      border-top-color: var(--fill-color);\n",
              "    }\n",
              "    60% {\n",
              "      border-color: transparent;\n",
              "      border-right-color: var(--fill-color);\n",
              "    }\n",
              "    80% {\n",
              "      border-color: transparent;\n",
              "      border-right-color: var(--fill-color);\n",
              "      border-bottom-color: var(--fill-color);\n",
              "    }\n",
              "    90% {\n",
              "      border-color: transparent;\n",
              "      border-bottom-color: var(--fill-color);\n",
              "    }\n",
              "  }\n",
              "</style>\n",
              "\n",
              "  <script>\n",
              "    async function quickchart(key) {\n",
              "      const quickchartButtonEl =\n",
              "        document.querySelector('#' + key + ' button');\n",
              "      quickchartButtonEl.disabled = true;  // To prevent multiple clicks.\n",
              "      quickchartButtonEl.classList.add('colab-df-spinner');\n",
              "      try {\n",
              "        const charts = await google.colab.kernel.invokeFunction(\n",
              "            'suggestCharts', [key], {});\n",
              "      } catch (error) {\n",
              "        console.error('Error during call to suggestCharts:', error);\n",
              "      }\n",
              "      quickchartButtonEl.classList.remove('colab-df-spinner');\n",
              "      quickchartButtonEl.classList.add('colab-df-quickchart-complete');\n",
              "    }\n",
              "    (() => {\n",
              "      let quickchartButtonEl =\n",
              "        document.querySelector('#df-b2779042-bcae-49da-8033-ce7b7bddf3f7 button');\n",
              "      quickchartButtonEl.style.display =\n",
              "        google.colab.kernel.accessAllowed ? 'block' : 'none';\n",
              "    })();\n",
              "  </script>\n",
              "</div>\n",
              "\n",
              "    </div>\n",
              "  </div>\n"
            ],
            "text/plain": [
              "                                                  URL  \\\n",
              "78  https://changealchemist.substack.com/p/a-sharp...   \n",
              "79              https://pspfrench.com/toxic-humility/   \n",
              "80  https://thestrategyguild.substack.com/p/learni...   \n",
              "81  https://chenshuz.substack.com/p/13-no-i-didnt-...   \n",
              "82  https://chenshuz.substack.com/p/burning-man-st...   \n",
              "\n",
              "                                              Article  \n",
              "78  I hate weighing myself.This time was worse tha...  \n",
              "79  First I must tip my hat to the absurdity of th...  \n",
              "80  Learning is the ultimate meta-skill. Skills. K...  \n",
              "81  I quit.At the age of 27.Thanks for reading Let...  \n",
              "82  At 24, I had a well-paid job and a boyfriend g...  "
            ]
          },
          "execution_count": 15,
          "metadata": {},
          "output_type": "execute_result"
        }
      ],
      "source": [
        "df.tail(5)"
      ]
    },
    {
      "cell_type": "code",
      "execution_count": null,
      "metadata": {
        "id": "Q65JUNmSO0di"
      },
      "outputs": [],
      "source": [
        "def get_all_embeddings(articles):\n",
        "  embeddings = []\n",
        "  count = 0\n",
        "  for article in articles:\n",
        "    eb = get_embedding(article)\n",
        "    embeddings.append(eb)\n",
        "    count += 1\n",
        "    print(\"got embedding for\", count)\n",
        "    time.sleep(1)\n",
        "  return embeddings"
      ]
    },
    {
      "cell_type": "code",
      "execution_count": null,
      "metadata": {
        "id": "wlmhslloXYGw"
      },
      "outputs": [],
      "source": [
        "article_embeddings = get_all_embeddings(articles)"
      ]
    },
    {
      "cell_type": "code",
      "execution_count": null,
      "metadata": {
        "id": "wReWdDIaYRno"
      },
      "outputs": [],
      "source": [
        "np.save('article_embeddings.npy', article_embeddings)"
      ]
    },
    {
      "cell_type": "code",
      "execution_count": null,
      "metadata": {
        "id": "ZIT_dkA2fwee"
      },
      "outputs": [],
      "source": [
        "import numpy as np\n",
        "article_eb_array=np.load('article_embeddings_2.npy', allow_pickle=True)"
      ]
    },
    {
      "cell_type": "code",
      "execution_count": null,
      "metadata": {
        "id": "5Er9YbPPmyPE"
      },
      "outputs": [],
      "source": [
        "articles = list(df['Article'])"
      ]
    },
    {
      "cell_type": "code",
      "execution_count": null,
      "metadata": {
        "id": "7idAV13KHctu"
      },
      "outputs": [],
      "source": [
        "def get_text(filename):\n",
        "  with open(filename, 'r') as file:\n",
        "    # Read the content of the file\n",
        "    content = file.read()\n",
        "  return content"
      ]
    },
    {
      "cell_type": "code",
      "execution_count": null,
      "metadata": {
        "id": "LSPTqaSoHrTx"
      },
      "outputs": [],
      "source": [
        "c1 = get_text(\"v1.txt\")\n",
        "c2 = get_text(\"v2.txt\")"
      ]
    },
    {
      "cell_type": "code",
      "execution_count": null,
      "metadata": {
        "colab": {
          "base_uri": "https://localhost:8080/"
        },
        "id": "fdAWNurVnYRw",
        "outputId": "de34cd4e-3657-487e-ac46-c6e7c86eb107"
      },
      "outputs": [
        {
          "name": "stdout",
          "output_type": "stream",
          "text": [
            "1536\n"
          ]
        }
      ],
      "source": [
        "print(len(my_essay_embedding))"
      ]
    },
    {
      "cell_type": "code",
      "execution_count": null,
      "metadata": {
        "id": "BMwBIRL5jVYh"
      },
      "outputs": [],
      "source": [
        "sb_article = articles[-1]"
      ]
    },
    {
      "cell_type": "code",
      "execution_count": null,
      "metadata": {
        "id": "grN21uTLjV7c"
      },
      "outputs": [],
      "source": [
        "sb_embedding = get_embedding(sb_article)"
      ]
    },
    {
      "cell_type": "code",
      "execution_count": null,
      "metadata": {
        "colab": {
          "base_uri": "https://localhost:8080/"
        },
        "id": "wxSgoqw7jSPQ",
        "outputId": "416973c9-002f-484c-e16b-6bd8292a4d3a"
      },
      "outputs": [
        {
          "name": "stdout",
          "output_type": "stream",
          "text": [
            "https://chenshuz.substack.com/p/burning-man-stories-how-to-figure : 1.0000000000000002\n",
            "https://chenshuz.substack.com/p/13-no-i-didnt-travel-on-my-sabbatical : 0.7429216182597131\n",
            "https://aashisha.substack.com/p/the-mind-bin : 0.7013143472027203\n",
            "https://happypixels.substack.com/p/death-fatherhood-and-ayahuasca : 0.6759873239405666\n",
            "https://open.substack.com/pub/carlosdexplorer/p/surf-and-the-art-of-solopreneurship : 0.6706253500381119\n",
            "https://wanderingwithwaning.substack.com/p/gn-49-figuring-out-whats-the-plan : 0.6684953880001178\n",
            "https://changesurfer.substack.com/p/how-to-walk-to-a-mens-group : 0.6676340479392726\n",
            "https://coco.substack.com/p/slow-spaces-for-conversation : 0.6614673864246304\n",
            "https://open.substack.com/pub/javierpgomez/p/third-times-the-missing-element-in : 0.6594479227095276\n",
            "https://www.honestlyhuman.com/p/the-antidote-to-writers-block-is : 0.6588971578217202\n",
            "https://open.substack.com/pub/aliviaduran/p/independence-is-overrated : 0.6580765284291199\n",
            "https://kaichun.substack.com/p/my-lighthouse-to-kindness : 0.6525193051033046\n",
            "https://vipuldevluk.substack.com/p/how-much-of-us-is-repetition : 0.6515078819882626\n",
            "https://amberthe.substack.com/p/love-needs-more-nothing : 0.6500438984147385\n",
            "https://open.substack.com/pub/thejaunt/p/the-joy-of-rediscovering-yourself : 0.6412268053971403\n",
            "https://wumanchu.ghost.io/you-can-not-perceive-percipience-frontier-the-a-side/ : 0.6396753039269907\n",
            "https://crustylittle.substack.com/p/the-words-that-got-away-a-case-for : 0.629065599805523\n",
            "https://beckyisj.substack.com/p/on-being-the-responsive-kid : 0.6257912342942038\n",
            "https://substack.com/home/post/p-150920628 : 0.6230592610838261\n",
            "https://www.aquestionablelife.com/p/separation : 0.6188132971669327\n",
            "https://open.substack.com/pub/fragmentsofhumanity/p/wrestling-with-the-divine : 0.617118214146304\n",
            "https://newsletter.bhavaniravi.com/p/business-doesnt-come-with-errors-and-tracebacks : 0.6151017304064166\n",
            "https://open.substack.com/pub/brandonleeweaver/p/save-toilet-time : 0.6149926518524332\n",
            "https://open.substack.com/pub/ryandreyer/p/emotional-regulation-through-athletic : 0.6050856137197773\n",
            "https://blog.amitbhatnagar.com/p/when-a-million-dreams-were-not-enough : 0.6045059604163692\n",
            "https://acaiberry.substack.com/p/analog-oasis : 0.5979626070608606\n",
            "https://inneradventure.substack.com/p/welcome-to-iran : 0.5975895727983608\n",
            "https://jeshuaglanzmann.substack.com/p/how-the-internet-ruined-my-life-and : 0.5971571078852429\n",
            "https://www.deeptichopra.com/p/failing-publicly : 0.596570091083859\n",
            "https://emilybrooke.substack.com/p/love-sweet-love-when-poetry-matters : 0.5924391301137731\n",
            "https://open.substack.com/pub/reimaginings/p/going-solo-isnt-the-answer-we-need : 0.5822472078383583\n",
            "https://www.thenewworkday.com/p/social-awkwardness-questions : 0.5794765462369824\n",
            "https://open.substack.com/pub/jasonblydell/p/joy-works-better : 0.5785931500182322\n",
            "https://jeffgiesea.substack.com/p/apes-unlimited-bananas-abundance : 0.5775066954982493\n",
            "https://informednaivety.substack.com/p/exploring-limiting-beliefs-with-ai : 0.577439237538413\n",
            "https://open.substack.com/pub/bluemamba/p/you-can-talk-to-each-other : 0.5764269563192329\n",
            "https://newmonday.substack.com/p/little-moments-of-awe : 0.5761686920266513\n",
            "https://davekang.substack.com/p/the-octopus-economy-is-here : 0.5755409512260685\n",
            "https://clairebutler.substack.com/p/looking-my-fertility-cliff-in-the : 0.5754618648129944\n",
            "https://www.zeeshaan.net/p/a-place-where-adults-can-be-kids : 0.575448452404659\n",
            "https://open.substack.com/pub/conscrumptious/p/a-life-lost-in-wonder : 0.5728062422915483\n",
            "https://open.substack.com/pub/technofable/p/escaping-goodreads-gravity-well : 0.5700761398965193\n",
            "https://open.substack.com/pub/subbaorg/p/comic-books-will-rot-your-brain : 0.5674681695293636\n",
            "https://open.substack.com/pub/pefitch/p/blessed-be-thy-homies : 0.5667041461097106\n",
            "https://hadijalali.substack.com/p/unfixing-silence : 0.5655754561442773\n",
            "https://open.substack.com/pub/amitwrites/p/survival-of-the-kindest : 0.5605763825988587\n",
            "https://amitwrites.substack.com/p/survival-of-the-kindest : 0.5605763825988587\n",
            "https://open.substack.com/pub/catalinamunoz/p/what-a-building-inspired-by-dantes : 0.5603044714842793\n",
            "https://joeballou.substack.com/p/the-worship-of-wealth-part-1-the : 0.5587618903349054\n",
            "https://landino.substack.com/p/the-decline-of-wonder : 0.5582843691456533\n",
            "https://open.substack.com/pub/rebeccasreviere/p/slow-down-art-matters : 0.5582711736268269\n",
            "https://harihkanth.substack.com/p/just-do-the-thing : 0.5524624600072437\n",
            "https://open.substack.com/pub/lindakaun/p/from-fighters-stance-to-shall-we : 0.5519315973038911\n",
            "https://open.substack.com/pub/quandarylabs/p/making-maps : 0.5482029486330309\n",
            "https://substack.com/home/post/p-151084538 : 0.5440157651393864\n",
            "https://open.substack.com/pub/attuned/p/the-good-ancestor : 0.5402201828461892\n",
            "https://open.substack.com/pub/orgchart/p/the-lure-of-career-optionality : 0.5389538205428505\n",
            "https://www.yearoftheopposite.com/p/the-world-needs-more-male-friendships : 0.531897911699827\n",
            "https://open.substack.com/pub/zainmeghji/p/write-it-down : 0.5315380647814133\n",
            "https://jeffgiesea.substack.com/p/lamplighter-problem-ai : 0.5309873254152795\n",
            "https://pragmatticdesign.substack.com/p/dear-student-of-design : 0.5261828403227173\n",
            "https://anthonymarigold.substack.com/p/guerrilla-writers-and-the-literary : 0.5220016837714286\n",
            "https://chengweihu.substack.com/p/emotional-freedom : 0.5210183561395856\n",
            "https://open.substack.com/pub/productiveprocrastination/p/how-i-built-my-second-brain-using : 0.5135207862434559\n",
            "https://economicsofglory.substack.com/p/trust-is-expensive-and-were-all-going : 0.5072181814337895\n",
            "https://open.substack.com/pub/omars/p/underrated-curiosity-effects : 0.5034894264494503\n",
            "https://thestrategyguild.substack.com/p/learning-is-an-act-of-sovereignty : 0.5010984294947672\n",
            "https://94040.substack.com/p/bamboo-learnings : 0.5003466307366661\n",
            "https://petebutters.substack.com/p/pepper-sprayed-in-paris : 0.49327669863601975\n",
            "https://open.substack.com/pub/curiouspollyanna/p/5-things-i-wish-parents-told-me-before : 0.4913499949239168\n",
            "https://open.substack.com/pub/thegoodmutha/p/showing-up-for-the-right-relationships : 0.4906230954277093\n",
            "https://ianmartorana.substack.com/p/the-death-of-serendipity : 0.48719319042362286\n",
            "https://jwilson.posthaven.com/micro-moments-a-stepfathers-guide-to-invisible-love : 0.47683374266430234\n",
            "https://open.substack.com/pub/salmanza/p/9-to-5-perimenopausal-progress : 0.46226853411354585\n",
            "https://pspfrench.com/toxic-humility/ : 0.45833338593497275\n",
            "https://changealchemist.substack.com/p/a-sharp-knife-is-all-i-need : 0.4504465770649123\n",
            "https://www.benjaminmilham.com/loveletters/food-doesnt-taste-better-with-friends : 0.4329131364687787\n",
            "https://open.substack.com/pub/ceehart/p/empty-calorie-innovation-is-a-bad : 0.428526900933809\n",
            "https://open.substack.com/pub/treadstonecapital/p/if-you-want-it : 0.42319391607303214\n",
            "https://axiacore.com/blog/what-can-we-learn-from-a-race-car-driver-about-business-949/ : 0.41947901769352824\n",
            "https://open.substack.com/pub/thecuriosityventure/p/product-managers-should-remember : 0.3862572121138423\n",
            "https://hollychen.substack.com/p/influencer-marketing-is-emerging : 0.3456841760079079\n",
            "https://thecopywise.com/articles/f/the-things-we-give-up-when-we%E2%80%99re-rushing-through-life : 0.08262581885533118\n"
          ]
        }
      ],
      "source": [
        "all_scores_sb = calculate_similarity_score(sb_embedding, article_eb_array)"
      ]
    },
    {
      "cell_type": "code",
      "execution_count": null,
      "metadata": {
        "colab": {
          "base_uri": "https://localhost:8080/"
        },
        "id": "4FxP5rC6rG2P",
        "outputId": "f930f882-17f0-450a-ee51-80dcf7a9eb2d"
      },
      "outputs": [
        {
          "name": "stdout",
          "output_type": "stream",
          "text": [
            "0: burning-man-stories-how-to-figure : 1.0000000000000002\n",
            "1: 13-no-i-didnt-travel-on-my-sabbatical : 0.7429216182597131\n",
            "2: the-mind-bin : 0.7013143472027203\n",
            "3: death-fatherhood-and-ayahuasca : 0.6759873239405666\n",
            "4: surf-and-the-art-of-solopreneurship : 0.6706253500381119\n",
            "5: gn-49-figuring-out-whats-the-plan : 0.6684953880001178\n",
            "6: how-to-walk-to-a-mens-group : 0.6676340479392726\n",
            "7: slow-spaces-for-conversation : 0.6614673864246304\n",
            "8: third-times-the-missing-element-in : 0.6594479227095276\n",
            "9: the-antidote-to-writers-block-is : 0.6588971578217202\n",
            "10: independence-is-overrated : 0.6580765284291199\n",
            "11: my-lighthouse-to-kindness : 0.6525193051033046\n",
            "12: how-much-of-us-is-repetition : 0.6515078819882626\n",
            "13: love-needs-more-nothing : 0.6500438984147385\n",
            "14: the-joy-of-rediscovering-yourself : 0.6412268053971403\n",
            "15:  : 0.6396753039269907\n",
            "16: the-words-that-got-away-a-case-for : 0.629065599805523\n",
            "17: on-being-the-responsive-kid : 0.6257912342942038\n",
            "18: p-150920628 : 0.6230592610838261\n",
            "19: separation : 0.6188132971669327\n",
            "20: wrestling-with-the-divine : 0.617118214146304\n",
            "21: business-doesnt-come-with-errors-and-tracebacks : 0.6151017304064166\n",
            "22: save-toilet-time : 0.6149926518524332\n",
            "23: emotional-regulation-through-athletic : 0.6050856137197773\n",
            "24: when-a-million-dreams-were-not-enough : 0.6045059604163692\n",
            "25: analog-oasis : 0.5979626070608606\n",
            "26: welcome-to-iran : 0.5975895727983608\n",
            "27: how-the-internet-ruined-my-life-and : 0.5971571078852429\n",
            "28: failing-publicly : 0.596570091083859\n",
            "29: love-sweet-love-when-poetry-matters : 0.5924391301137731\n",
            "30: going-solo-isnt-the-answer-we-need : 0.5822472078383583\n",
            "31: social-awkwardness-questions : 0.5794765462369824\n",
            "32: joy-works-better : 0.5785931500182322\n",
            "33: apes-unlimited-bananas-abundance : 0.5775066954982493\n",
            "34: exploring-limiting-beliefs-with-ai : 0.577439237538413\n",
            "35: you-can-talk-to-each-other : 0.5764269563192329\n",
            "36: little-moments-of-awe : 0.5761686920266513\n",
            "37: the-octopus-economy-is-here : 0.5755409512260685\n",
            "38: looking-my-fertility-cliff-in-the : 0.5754618648129944\n",
            "39: a-place-where-adults-can-be-kids : 0.575448452404659\n",
            "40: a-life-lost-in-wonder : 0.5728062422915483\n",
            "41: escaping-goodreads-gravity-well : 0.5700761398965193\n",
            "42: comic-books-will-rot-your-brain : 0.5674681695293636\n",
            "43: blessed-be-thy-homies : 0.5667041461097106\n",
            "44: unfixing-silence : 0.5655754561442773\n",
            "45: survival-of-the-kindest : 0.5605763825988587\n",
            "46: survival-of-the-kindest : 0.5605763825988587\n",
            "47: what-a-building-inspired-by-dantes : 0.5603044714842793\n",
            "48: the-worship-of-wealth-part-1-the : 0.5587618903349054\n",
            "49: the-decline-of-wonder : 0.5582843691456533\n",
            "50: slow-down-art-matters : 0.5582711736268269\n",
            "51: just-do-the-thing : 0.5524624600072437\n",
            "52: from-fighters-stance-to-shall-we : 0.5519315973038911\n",
            "53: making-maps : 0.5482029486330309\n",
            "54: p-151084538 : 0.5440157651393864\n",
            "55: the-good-ancestor : 0.5402201828461892\n",
            "56: the-lure-of-career-optionality : 0.5389538205428505\n",
            "57: the-world-needs-more-male-friendships : 0.531897911699827\n",
            "58: write-it-down : 0.5315380647814133\n",
            "59: lamplighter-problem-ai : 0.5309873254152795\n",
            "60: dear-student-of-design : 0.5261828403227173\n",
            "61: guerrilla-writers-and-the-literary : 0.5220016837714286\n",
            "62: emotional-freedom : 0.5210183561395856\n",
            "63: how-i-built-my-second-brain-using : 0.5135207862434559\n",
            "64: trust-is-expensive-and-were-all-going : 0.5072181814337895\n",
            "65: underrated-curiosity-effects : 0.5034894264494503\n",
            "66: learning-is-an-act-of-sovereignty : 0.5010984294947672\n",
            "67: bamboo-learnings : 0.5003466307366661\n",
            "68: pepper-sprayed-in-paris : 0.49327669863601975\n",
            "69: 5-things-i-wish-parents-told-me-before : 0.4913499949239168\n",
            "70: showing-up-for-the-right-relationships : 0.4906230954277093\n",
            "71: the-death-of-serendipity : 0.48719319042362286\n",
            "72: micro-moments-a-stepfathers-guide-to-invisible-love : 0.47683374266430234\n",
            "73: 9-to-5-perimenopausal-progress : 0.46226853411354585\n",
            "74:  : 0.45833338593497275\n",
            "75: a-sharp-knife-is-all-i-need : 0.4504465770649123\n",
            "76: food-doesnt-taste-better-with-friends : 0.4329131364687787\n",
            "77: empty-calorie-innovation-is-a-bad : 0.428526900933809\n",
            "78: if-you-want-it : 0.42319391607303214\n",
            "79:  : 0.41947901769352824\n",
            "80: product-managers-should-remember : 0.3862572121138423\n",
            "81: influencer-marketing-is-emerging : 0.3456841760079079\n",
            "82: the-things-we-give-up-when-we%E2%80%99re-rushing-through-life : 0.08262581885533118\n"
          ]
        }
      ],
      "source": [
        "#my_embedding = get_embedding(my_article)\n",
        "#all_scores_sb = calculate_similarity_score(my_embedding, article_eb_array)\n",
        "all_scores_sb[:11]\n",
        "for i, (url, score) in enumerate(all_scores_sb):\n",
        "  title = url.split(\"/\")[-1]\n",
        "  print(f\"{i}: {title} : {score}\")"
      ]
    },
    {
      "cell_type": "code",
      "execution_count": null,
      "metadata": {
        "colab": {
          "base_uri": "https://localhost:8080/",
          "height": 472
        },
        "id": "-wV3AHk2j3yO",
        "outputId": "8e47982d-95e8-4e47-9611-f28d0ebf265e"
      },
      "outputs": [
        {
          "data": {
            "image/png": "[encoded data removed]",
            "text/plain": [
              "<Figure size 640x480 with 1 Axes>"
            ]
          },
          "metadata": {},
          "output_type": "display_data"
        }
      ],
      "source": [
        "import numpy as np\n",
        "import matplotlib.pyplot as plt\n",
        "\n",
        "scores =  [score for (url, score) in all_scores_sb[1:-1]]\n",
        "data = np.array(scores)\n",
        "\n",
        "# Plotting the histogram\n",
        "plt.hist(data, bins=10, edgecolor='black')  # bins control the number of bars\n",
        "plt.title(\"Distribution of similarity scores\")\n",
        "plt.xlabel(\"Value\")\n",
        "plt.ylabel(\"Frequency\")\n",
        "plt.show()"
      ]
    },
    {
      "cell_type": "code",
      "execution_count": null,
      "metadata": {
        "colab": {
          "base_uri": "https://localhost:8080/"
        },
        "id": "gg8RNufhhZ3N",
        "outputId": "d7082830-ac21-42c0-ce1e-afda177c634a"
      },
      "outputs": [
        {
          "name": "stdout",
          "output_type": "stream",
          "text": [
            "https://chenshuz.substack.com/p/burning-man-stories-how-to-figure : 0.9999993712456207\n",
            "https://chenshuz.substack.com/p/13-no-i-didnt-travel-on-my-sabbatical : 0.7429666655581242\n",
            "https://aashisha.substack.com/p/the-mind-bin : 0.7013395282290071\n",
            "https://happypixels.substack.com/p/death-fatherhood-and-ayahuasca : 0.6760240920269984\n",
            "https://open.substack.com/pub/carlosdexplorer/p/surf-and-the-art-of-solopreneurship : 0.6706976732270227\n",
            "https://wanderingwithwaning.substack.com/p/gn-49-figuring-out-whats-the-plan : 0.6685755548188304\n",
            "https://changesurfer.substack.com/p/how-to-walk-to-a-mens-group : 0.6677199992229487\n",
            "https://coco.substack.com/p/slow-spaces-for-conversation : 0.6615433049978099\n",
            "https://open.substack.com/pub/javierpgomez/p/third-times-the-missing-element-in : 0.659526984762544\n",
            "https://www.honestlyhuman.com/p/the-antidote-to-writers-block-is : 0.6589651689027929\n",
            "https://open.substack.com/pub/aliviaduran/p/independence-is-overrated : 0.658118097777028\n",
            "https://kaichun.substack.com/p/my-lighthouse-to-kindness : 0.6525671428596407\n",
            "https://vipuldevluk.substack.com/p/how-much-of-us-is-repetition : 0.6515100704988004\n",
            "https://amberthe.substack.com/p/love-needs-more-nothing : 0.6500811459342279\n",
            "https://open.substack.com/pub/thejaunt/p/the-joy-of-rediscovering-yourself : 0.641240802477895\n",
            "https://wumanchu.ghost.io/you-can-not-perceive-percipience-frontier-the-a-side/ : 0.6396959487870013\n",
            "https://crustylittle.substack.com/p/the-words-that-got-away-a-case-for : 0.6290747559428459\n",
            "https://beckyisj.substack.com/p/on-being-the-responsive-kid : 0.625822877895425\n",
            "https://substack.com/home/post/p-150920628 : 0.6231282337623354\n",
            "https://www.aquestionablelife.com/p/separation : 0.6188567120256344\n",
            "https://open.substack.com/pub/fragmentsofhumanity/p/wrestling-with-the-divine : 0.6171649345998966\n",
            "https://newsletter.bhavaniravi.com/p/business-doesnt-come-with-errors-and-tracebacks : 0.6152348952187934\n",
            "https://open.substack.com/pub/brandonleeweaver/p/save-toilet-time : 0.615025791460736\n",
            "https://open.substack.com/pub/ryandreyer/p/emotional-regulation-through-athletic : 0.6051723612928668\n",
            "https://blog.amitbhatnagar.com/p/when-a-million-dreams-were-not-enough : 0.6046220324820614\n",
            "https://acaiberry.substack.com/p/analog-oasis : 0.5980164154847879\n",
            "https://inneradventure.substack.com/p/welcome-to-iran : 0.5976038254553719\n",
            "https://jeshuaglanzmann.substack.com/p/how-the-internet-ruined-my-life-and : 0.5972218036173973\n",
            "https://www.deeptichopra.com/p/failing-publicly : 0.5966180264613974\n",
            "https://emilybrooke.substack.com/p/love-sweet-love-when-poetry-matters : 0.5924777450612249\n",
            "https://open.substack.com/pub/reimaginings/p/going-solo-isnt-the-answer-we-need : 0.5823252654978059\n",
            "https://www.thenewworkday.com/p/social-awkwardness-questions : 0.5795568067206693\n",
            "https://open.substack.com/pub/jasonblydell/p/joy-works-better : 0.578659563564362\n",
            "https://jeffgiesea.substack.com/p/apes-unlimited-bananas-abundance : 0.5775183664518102\n",
            "https://informednaivety.substack.com/p/exploring-limiting-beliefs-with-ai : 0.5775129488754291\n",
            "https://open.substack.com/pub/bluemamba/p/you-can-talk-to-each-other : 0.57649628130314\n",
            "https://newmonday.substack.com/p/little-moments-of-awe : 0.5762129877162082\n",
            "https://davekang.substack.com/p/the-octopus-economy-is-here : 0.5756338994267229\n",
            "https://www.zeeshaan.net/p/a-place-where-adults-can-be-kids : 0.5754847983613798\n",
            "https://clairebutler.substack.com/p/looking-my-fertility-cliff-in-the : 0.575472817123206\n",
            "https://open.substack.com/pub/conscrumptious/p/a-life-lost-in-wonder : 0.5728041937163657\n",
            "https://open.substack.com/pub/technofable/p/escaping-goodreads-gravity-well : 0.5701523684776212\n",
            "https://open.substack.com/pub/subbaorg/p/comic-books-will-rot-your-brain : 0.5675145808454356\n",
            "https://open.substack.com/pub/pefitch/p/blessed-be-thy-homies : 0.5667698190416682\n",
            "https://hadijalali.substack.com/p/unfixing-silence : 0.5656257911319603\n",
            "https://open.substack.com/pub/amitwrites/p/survival-of-the-kindest : 0.5605871441555272\n",
            "https://amitwrites.substack.com/p/survival-of-the-kindest : 0.5605871441555272\n",
            "https://open.substack.com/pub/catalinamunoz/p/what-a-building-inspired-by-dantes : 0.5603733816426915\n",
            "https://joeballou.substack.com/p/the-worship-of-wealth-part-1-the : 0.558828090021513\n",
            "https://open.substack.com/pub/rebeccasreviere/p/slow-down-art-matters : 0.558387688474187\n",
            "https://landino.substack.com/p/the-decline-of-wonder : 0.5582470281669112\n",
            "https://harihkanth.substack.com/p/just-do-the-thing : 0.5525473592313295\n",
            "https://open.substack.com/pub/lindakaun/p/from-fighters-stance-to-shall-we : 0.5519802951533409\n",
            "https://open.substack.com/pub/quandarylabs/p/making-maps : 0.5482370003819146\n",
            "https://substack.com/home/post/p-151084538 : 0.5440675783704193\n",
            "https://open.substack.com/pub/attuned/p/the-good-ancestor : 0.540208760961868\n",
            "https://open.substack.com/pub/orgchart/p/the-lure-of-career-optionality : 0.5390827202501539\n",
            "https://www.yearoftheopposite.com/p/the-world-needs-more-male-friendships : 0.5319853360180296\n",
            "https://open.substack.com/pub/zainmeghji/p/write-it-down : 0.5315974318468925\n",
            "https://jeffgiesea.substack.com/p/lamplighter-problem-ai : 0.5310661797667897\n",
            "https://pragmatticdesign.substack.com/p/dear-student-of-design : 0.52629700035677\n",
            "https://anthonymarigold.substack.com/p/guerrilla-writers-and-the-literary : 0.5220960972929156\n",
            "https://chengweihu.substack.com/p/emotional-freedom : 0.521066632844678\n",
            "https://open.substack.com/pub/productiveprocrastination/p/how-i-built-my-second-brain-using : 0.5135537765140393\n",
            "https://economicsofglory.substack.com/p/trust-is-expensive-and-were-all-going : 0.5072334592627887\n",
            "https://open.substack.com/pub/omars/p/underrated-curiosity-effects : 0.5035683435660773\n",
            "https://thestrategyguild.substack.com/p/learning-is-an-act-of-sovereignty : 0.5012166493713293\n",
            "https://94040.substack.com/p/bamboo-learnings : 0.5004127950199073\n",
            "https://petebutters.substack.com/p/pepper-sprayed-in-paris : 0.4933079296045799\n",
            "https://open.substack.com/pub/curiouspollyanna/p/5-things-i-wish-parents-told-me-before : 0.49134479498146644\n",
            "https://open.substack.com/pub/thegoodmutha/p/showing-up-for-the-right-relationships : 0.4907111317724438\n",
            "https://ianmartorana.substack.com/p/the-death-of-serendipity : 0.48724586176222806\n",
            "https://jwilson.posthaven.com/micro-moments-a-stepfathers-guide-to-invisible-love : 0.47685424606781857\n",
            "https://open.substack.com/pub/salmanza/p/9-to-5-perimenopausal-progress : 0.4623401222178492\n",
            "https://pspfrench.com/toxic-humility/ : 0.4583989065776273\n",
            "https://changealchemist.substack.com/p/a-sharp-knife-is-all-i-need : 0.45050357596018864\n",
            "https://www.benjaminmilham.com/loveletters/food-doesnt-taste-better-with-friends : 0.43294538229379853\n",
            "https://open.substack.com/pub/ceehart/p/empty-calorie-innovation-is-a-bad : 0.42860780677356536\n",
            "https://open.substack.com/pub/treadstonecapital/p/if-you-want-it : 0.4232869533226844\n",
            "https://axiacore.com/blog/what-can-we-learn-from-a-race-car-driver-about-business-949/ : 0.4195897842114462\n",
            "https://open.substack.com/pub/thecuriosityventure/p/product-managers-should-remember : 0.3863490091199576\n",
            "https://hollychen.substack.com/p/influencer-marketing-is-emerging : 0.3458093688748183\n",
            "https://thecopywise.com/articles/f/the-things-we-give-up-when-we%E2%80%99re-rushing-through-life : 0.08265125492513892\n"
          ]
        }
      ],
      "source": [
        "all_scores = calculate_similarity_score(bm_embedding, article_eb_array)"
      ]
    },
    {
      "cell_type": "code",
      "execution_count": null,
      "metadata": {
        "colab": {
          "base_uri": "https://localhost:8080/"
        },
        "id": "9OZDlRUdhg7Y",
        "outputId": "c63fcf46-0037-4780-abac-172fb85b160b"
      },
      "outputs": [
        {
          "data": {
            "text/plain": [
              "83"
            ]
          },
          "execution_count": 366,
          "metadata": {},
          "output_type": "execute_result"
        }
      ],
      "source": [
        "len(all_scores)"
      ]
    },
    {
      "cell_type": "code",
      "execution_count": null,
      "metadata": {
        "colab": {
          "base_uri": "https://localhost:8080/"
        },
        "id": "QPK5vfSepquq",
        "outputId": "042ea197-17fe-4617-814a-b683814c5cfb"
      },
      "outputs": [
        {
          "data": {
            "text/plain": [
              "array([ 0.0370124 ,  0.03689481,  0.00766559, ..., -0.01286908,\n",
              "        0.0101424 , -0.01586036])"
            ]
          },
          "execution_count": 371,
          "metadata": {},
          "output_type": "execute_result"
        }
      ],
      "source": [
        "article_eb_array[0]"
      ]
    },
    {
      "cell_type": "code",
      "execution_count": null,
      "metadata": {
        "colab": {
          "base_uri": "https://localhost:8080/"
        },
        "id": "97o94i4onkJ5",
        "outputId": "cab348ba-df17-43ef-e8fa-42735fb82da1"
      },
      "outputs": [
        {
          "name": "stdout",
          "output_type": "stream",
          "text": [
            "{'https://open.substack.com/pub/attuned/p/the-good-ancestor': 1, 'https://thecopywise.com/articles/f/the-things-we-give-up-when-we%E2%80%99re-rushing-through-life': 4, 'https://joeballou.substack.com/p/the-worship-of-wealth-part-1-the': 0, 'https://open.substack.com/pub/carlosdexplorer/p/surf-and-the-art-of-solopreneurship': 3, 'https://changesurfer.substack.com/p/how-to-walk-to-a-mens-group': 2, 'https://open.substack.com/pub/bluemamba/p/you-can-talk-to-each-other': 2, 'https://coco.substack.com/p/slow-spaces-for-conversation': 3, 'https://landino.substack.com/p/the-decline-of-wonder': 1, 'https://open.substack.com/pub/treadstonecapital/p/if-you-want-it': 0, 'https://open.substack.com/pub/conscrumptious/p/a-life-lost-in-wonder': 1, 'https://petebutters.substack.com/p/pepper-sprayed-in-paris': 2, 'https://www.deeptichopra.com/p/failing-publicly': 2, 'https://open.substack.com/pub/thecuriosityventure/p/product-managers-should-remember': 0, 'https://open.substack.com/pub/orgchart/p/the-lure-of-career-optionality': 0, 'https://jeffgiesea.substack.com/p/lamplighter-problem-ai': 0, 'https://open.substack.com/pub/reimaginings/p/going-solo-isnt-the-answer-we-need': 0, 'https://crustylittle.substack.com/p/the-words-that-got-away-a-case-for': 2, 'https://inneradventure.substack.com/p/welcome-to-iran': 2, 'https://open.substack.com/pub/javierpgomez/p/third-times-the-missing-element-in': 3, 'https://jeffgiesea.substack.com/p/apes-unlimited-bananas-abundance': 1, 'https://open.substack.com/pub/lindakaun/p/from-fighters-stance-to-shall-we': 2, 'https://clairebutler.substack.com/p/looking-my-fertility-cliff-in-the': 2, 'https://amberthe.substack.com/p/love-needs-more-nothing': 3, 'https://ianmartorana.substack.com/p/the-death-of-serendipity': 3, 'https://informednaivety.substack.com/p/exploring-limiting-beliefs-with-ai': 0, 'https://open.substack.com/pub/rebeccasreviere/p/slow-down-art-matters': 3, 'https://open.substack.com/pub/brandonleeweaver/p/save-toilet-time': 2, 'https://open.substack.com/pub/ryandreyer/p/emotional-regulation-through-athletic': 2, 'https://open.substack.com/pub/productiveprocrastination/p/how-i-built-my-second-brain-using': 0, 'https://kaichun.substack.com/p/my-lighthouse-to-kindness': 2, 'https://open.substack.com/pub/quandarylabs/p/making-maps': 0, 'https://newsletter.bhavaniravi.com/p/business-doesnt-come-with-errors-and-tracebacks': 0, 'https://harihkanth.substack.com/p/just-do-the-thing': 3, 'https://anthonymarigold.substack.com/p/guerrilla-writers-and-the-literary': 3, 'https://open.substack.com/pub/aliviaduran/p/independence-is-overrated': 3, 'https://axiacore.com/blog/what-can-we-learn-from-a-race-car-driver-about-business-949/': 0, 'https://open.substack.com/pub/curiouspollyanna/p/5-things-i-wish-parents-told-me-before': 2, 'https://open.substack.com/pub/pefitch/p/blessed-be-thy-homies': 2, 'https://aashisha.substack.com/p/the-mind-bin': 3, 'https://open.substack.com/pub/technofable/p/escaping-goodreads-gravity-well': 3, 'https://wumanchu.ghost.io/you-can-not-perceive-percipience-frontier-the-a-side/': 2, 'https://open.substack.com/pub/catalinamunoz/p/what-a-building-inspired-by-dantes': 2, 'https://www.thenewworkday.com/p/social-awkwardness-questions': 0, 'https://open.substack.com/pub/ceehart/p/empty-calorie-innovation-is-a-bad': 0, 'https://www.benjaminmilham.com/loveletters/food-doesnt-taste-better-with-friends': 2, 'https://pragmatticdesign.substack.com/p/dear-student-of-design': 0, 'https://open.substack.com/pub/thegoodmutha/p/showing-up-for-the-right-relationships': 2, 'https://newmonday.substack.com/p/little-moments-of-awe': 0, 'https://wanderingwithwaning.substack.com/p/gn-49-figuring-out-whats-the-plan': 0, 'https://chengweihu.substack.com/p/emotional-freedom': 0, 'https://emilybrooke.substack.com/p/love-sweet-love-when-poetry-matters': 3, 'https://open.substack.com/pub/zainmeghji/p/write-it-down': 3, 'https://open.substack.com/pub/jasonblydell/p/joy-works-better': 2, 'https://substack.com/home/post/p-150920628': 1, 'https://www.aquestionablelife.com/p/separation': 2, 'https://blog.amitbhatnagar.com/p/when-a-million-dreams-were-not-enough': 2, 'https://open.substack.com/pub/subbaorg/p/comic-books-will-rot-your-brain': 2, 'https://open.substack.com/pub/salmanza/p/9-to-5-perimenopausal-progress': 2, 'https://economicsofglory.substack.com/p/trust-is-expensive-and-were-all-going': 0, 'https://open.substack.com/pub/amitwrites/p/survival-of-the-kindest': 1, 'https://jeshuaglanzmann.substack.com/p/how-the-internet-ruined-my-life-and': 3, 'https://open.substack.com/pub/thejaunt/p/the-joy-of-rediscovering-yourself': 3, 'https://happypixels.substack.com/p/death-fatherhood-and-ayahuasca': 2, 'https://open.substack.com/pub/fragmentsofhumanity/p/wrestling-with-the-divine': 2, 'https://beckyisj.substack.com/p/on-being-the-responsive-kid': 3, 'https://www.yearoftheopposite.com/p/the-world-needs-more-male-friendships': 2, 'https://hollychen.substack.com/p/influencer-marketing-is-emerging': 0, 'https://hadijalali.substack.com/p/unfixing-silence': 3, 'https://vipuldevluk.substack.com/p/how-much-of-us-is-repetition': 3, 'https://jwilson.posthaven.com/micro-moments-a-stepfathers-guide-to-invisible-love': 2, 'https://davekang.substack.com/p/the-octopus-economy-is-here': 0, 'https://amitwrites.substack.com/p/survival-of-the-kindest': 1, 'https://www.honestlyhuman.com/p/the-antidote-to-writers-block-is': 3, 'https://acaiberry.substack.com/p/analog-oasis': 0, 'https://www.zeeshaan.net/p/a-place-where-adults-can-be-kids': 3, 'https://94040.substack.com/p/bamboo-learnings': 0, 'https://substack.com/home/post/p-151084538': 2, 'https://open.substack.com/pub/omars/p/underrated-curiosity-effects': 0, 'https://changealchemist.substack.com/p/a-sharp-knife-is-all-i-need': 0, 'https://pspfrench.com/toxic-humility/': 0, 'https://thestrategyguild.substack.com/p/learning-is-an-act-of-sovereignty': 0, 'https://chenshuz.substack.com/p/13-no-i-didnt-travel-on-my-sabbatical': 3, 'https://chenshuz.substack.com/p/burning-man-stories-how-to-figure': 2}\n"
          ]
        }
      ],
      "source": [
        "from sklearn.cluster import KMeans\n",
        "import numpy as np\n",
        "\n",
        "# Sample data: dictionary of 80 embeddings with associated keys\n",
        "data = {\n",
        "    f\"{urls[i]}\": article_eb_array[i] for i in range(83)  # Replace with your actual embeddings\n",
        "}\n",
        "\n",
        "# Extract keys and embeddings\n",
        "keys = list(data.keys())\n",
        "embeddings = np.array(list(data.values()))\n",
        "\n",
        "# Perform KMeans clustering\n",
        "n_clusters = 5  # Choose the number of clusters as appropriate\n",
        "kmeans = KMeans(n_clusters=n_clusters, random_state=42)\n",
        "labels = kmeans.fit_predict(embeddings)\n",
        "\n",
        "# Map each key to its cluster label\n",
        "clustered_data = {key: label for key, label in zip(keys, labels)}\n",
        "\n",
        "# Print or analyze the clustering result\n",
        "print(clustered_data)\n"
      ]
    },
    {
      "cell_type": "code",
      "execution_count": null,
      "metadata": {
        "id": "OKEGjXZmpENJ"
      },
      "outputs": [],
      "source": [
        "groups= {}\n",
        "for key, label in clustered_data.items():\n",
        "  if label not in groups:\n",
        "    groups[label] = []\n",
        "  groups[label].append(key)"
      ]
    },
    {
      "cell_type": "code",
      "execution_count": null,
      "metadata": {
        "id": "m8M1Q339qGBA"
      },
      "outputs": [],
      "source": []
    },
    {
      "cell_type": "code",
      "execution_count": null,
      "metadata": {
        "id": "-eCpOVcLHm82"
      },
      "outputs": [],
      "source": []
    }
  ],
  "metadata": {
    "colab": {
      "provenance": []
    },
    "kernelspec": {
      "display_name": "Python 3",
      "name": "python3"
    },
    "language_info": {
      "name": "python"
    }
  },
  "nbformat": 4,
  "nbformat_minor": 0
}
